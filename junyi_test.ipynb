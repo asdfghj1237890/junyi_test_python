{
 "cells": [
  {
   "cell_type": "markdown",
   "metadata": {},
   "source": [
    "# Question 1"
   ]
  },
  {
   "cell_type": "code",
   "execution_count": 39,
   "metadata": {},
   "outputs": [],
   "source": [
    "def f1(sentence):\n",
    "    phase = sentence.split(' ')\n",
    "    phase1 = []\n",
    "    for item in phase:\n",
    "        new_text = ''\n",
    "        for n in reversed(range(len(item))):\n",
    "            new_text += item[n]\n",
    "        phase1.append(new_text)\n",
    "        #print(new_text)\n",
    "    #print(phase1)\n",
    "    output_text = ''\n",
    "    for item in phase1:\n",
    "        if phase1.index(item) != len(phase1)-1:\n",
    "            output_text += item + \" \"\n",
    "        else:\n",
    "            output_text += item\n",
    "    return output_text"
   ]
  },
  {
   "cell_type": "code",
   "execution_count": 40,
   "metadata": {},
   "outputs": [
    {
     "output_type": "execute_result",
     "data": {
      "text/plain": "'ymedacaiynuj'"
     },
     "metadata": {},
     "execution_count": 40
    }
   ],
   "source": [
    "f1(\"junyiacademy\")"
   ]
  },
  {
   "cell_type": "code",
   "execution_count": 41,
   "metadata": {},
   "outputs": [
    {
     "output_type": "execute_result",
     "data": {
      "text/plain": "'deppilf ssalc moor si tnatropmi'"
     },
     "metadata": {},
     "execution_count": 41
    }
   ],
   "source": [
    "f1(\"flipped class room is important\")"
   ]
  },
  {
   "cell_type": "code",
   "execution_count": null,
   "metadata": {},
   "outputs": [],
   "source": []
  }
 ],
 "metadata": {
  "language_info": {
   "codemirror_mode": {
    "name": "ipython",
    "version": 3
   },
   "file_extension": ".py",
   "mimetype": "text/x-python",
   "name": "python",
   "nbconvert_exporter": "python",
   "pygments_lexer": "ipython3",
   "version": "3.7.5-final"
  },
  "orig_nbformat": 2,
  "kernelspec": {
   "name": "python37564bitenvvenvab73a92ab8ac4a6eb32999997d6321a2",
   "display_name": "Python 3.7.5 64-bit ('env': venv)"
  }
 },
 "nbformat": 4,
 "nbformat_minor": 2
}