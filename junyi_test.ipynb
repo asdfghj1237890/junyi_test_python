{
 "cells": [
  {
   "cell_type": "markdown",
   "metadata": {},
   "source": [
    "# Question 1"
   ]
  },
  {
   "cell_type": "code",
   "execution_count": 39,
   "metadata": {},
   "outputs": [],
   "source": [
    "def f1(sentence):\n",
    "    phase = sentence.split(' ')\n",
    "    phase1 = []\n",
    "    for item in phase:\n",
    "        new_text = ''\n",
    "        for n in reversed(range(len(item))):\n",
    "            new_text += item[n]\n",
    "        phase1.append(new_text)\n",
    "        #print(new_text)\n",
    "    #print(phase1)\n",
    "    output_text = ''\n",
    "    for item in phase1:\n",
    "        if phase1.index(item) != len(phase1)-1:\n",
    "            output_text += item + \" \"\n",
    "        else:\n",
    "            output_text += item\n",
    "    return output_text"
   ]
  },
  {
   "cell_type": "code",
   "execution_count": 40,
   "metadata": {},
   "outputs": [
    {
     "output_type": "execute_result",
     "data": {
      "text/plain": "'ymedacaiynuj'"
     },
     "metadata": {},
     "execution_count": 40
    }
   ],
   "source": [
    "f1(\"junyiacademy\")"
   ]
  },
  {
   "cell_type": "code",
   "execution_count": 41,
   "metadata": {},
   "outputs": [
    {
     "output_type": "execute_result",
     "data": {
      "text/plain": "'deppilf ssalc moor si tnatropmi'"
     },
     "metadata": {},
     "execution_count": 41
    }
   ],
   "source": [
    "f1(\"flipped class room is important\")"
   ]
  },
  {
   "cell_type": "markdown",
   "metadata": {},
   "source": [
    "# Question 2"
   ]
  },
  {
   "cell_type": "code",
   "execution_count": 14,
   "metadata": {},
   "outputs": [],
   "source": [
    "def f2(range_num):\n",
    "    output_num = 0\n",
    "    for n in range(range_num):\n",
    "        #print(n+1)\n",
    "        if (n+1) % 3 != 0 and (n+1) % 5 != 0:\n",
    "            #print(n+1)\n",
    "            output_num += 1\n",
    "        if (n+1) % 15 == 0:\n",
    "            #print(n+1)\n",
    "            output_num += 1\n",
    "    return output_num"
   ]
  },
  {
   "cell_type": "code",
   "execution_count": 16,
   "metadata": {},
   "outputs": [
    {
     "output_type": "execute_result",
     "data": {
      "text/plain": "9"
     },
     "metadata": {},
     "execution_count": 16
    }
   ],
   "source": [
    "f2(15)"
   ]
  },
  {
   "cell_type": "markdown",
   "metadata": {},
   "source": [
    "# Question 3"
   ]
  },
  {
   "cell_type": "markdown",
   "metadata": {},
   "source": [
    "首先假設情況是這樣(三袋的標示都是錯的)﹕\n",
    "\n",
    "B(原子筆)bag 1: A(鉛筆)\n",
    "\n",
    "Both(混和)bag 2: B(原子筆)\n",
    "\n",
    "A(鉛筆)bag 3: A, B (both)\n",
    "\n",
    "# 假設我在不知情哪一袋是哪種筆，且我知道每袋的標示都是錯的情況下，\n",
    "\n",
    "從bag 3 取出A，那因為bag 3 的標示是A，所以bag 3不可能是A，只會是B 或 both，但B的話，就不可能能夠取出A，所以當下可以判斷bag 3 是both\n",
    "\n",
    "剩下兩袋內容分別是A和B，但標示是B和Both，但因為標示是錯的關係，標示是B的那一袋，就不可能是B，那就只可能是A\n",
    "\n",
    "最後寫著Both那袋就是剩下的B\n",
    "\n",
    "關鍵點是我知道每一袋的標示都是錯，且從拿到的一支筆去否定「拿到筆的那一袋」的標示，且另外否定了內容物「是另一種筆」的可能"
   ]
  },
  {
   "cell_type": "code",
   "execution_count": null,
   "metadata": {},
   "outputs": [],
   "source": []
  }
 ],
 "metadata": {
  "language_info": {
   "codemirror_mode": {
    "name": "ipython",
    "version": 3
   },
   "file_extension": ".py",
   "mimetype": "text/x-python",
   "name": "python",
   "nbconvert_exporter": "python",
   "pygments_lexer": "ipython3",
   "version": "3.7.5-final"
  },
  "orig_nbformat": 2,
  "kernelspec": {
   "name": "python37564bitenvvenvab73a92ab8ac4a6eb32999997d6321a2",
   "display_name": "Python 3.7.5 64-bit ('env': venv)"
  }
 },
 "nbformat": 4,
 "nbformat_minor": 2
}